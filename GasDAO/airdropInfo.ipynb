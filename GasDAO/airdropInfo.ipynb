{
 "cells": [
  {
   "attachments": {},
   "cell_type": "markdown",
   "metadata": {},
   "source": [
    "# Gas DAO\n",
    "## Airdrop\n",
    "[Article](https://www.altcoinbuzz.io/nft/airdrop-mania-continues-with-the-gas-dao/)  \n",
    "\n",
    "## Eth Wallet Info (Existing Dune dashboards)\n",
    "[Eth unique addresses](https://dune.com/queries/333234/639183)  \n",
    "[Wallet Supplies](https://dune.com/robviously)  \n",
    "[Eth TXs/ wallets](https://dune.com/turnipshepherd)"
   ]
  }
 ],
 "metadata": {
  "kernelspec": {
   "display_name": "Python 3",
   "language": "python",
   "name": "python3"
  },
  "language_info": {
   "name": "python",
   "version": "3.8.10 (default, Mar 15 2022, 12:22:08) \n[GCC 9.4.0]"
  },
  "orig_nbformat": 4,
  "vscode": {
   "interpreter": {
    "hash": "916dbcbb3f70747c44a77c7bcd40155683ae19c65e1c03b4aa3499c5328201f1"
   }
  }
 },
 "nbformat": 4,
 "nbformat_minor": 2
}
