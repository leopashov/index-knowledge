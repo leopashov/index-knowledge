{
 "cells": [
  {
   "attachments": {},
   "cell_type": "markdown",
   "metadata": {},
   "source": [
    "# Gas DAO\n",
    "## Airdrop\n",
    "[Article](https://www.altcoinbuzz.io/nft/airdrop-mania-continues-with-the-gas-dao/)  \n",
    "\n",
    "## Eth Wallet Info (Existing Dune dashboards)\n",
    "[Eth unique addresses](https://dune.com/queries/333234/639183)  \n",
    "[Wallet Supplies](https://dune.com/robviously)  \n",
    "[Eth TXs/ wallets](https://dune.com/turnipshepherd)"
   ]
  }
 ],
 "metadata": {
  "language_info": {
   "name": "python"
  },
  "orig_nbformat": 4
 },
 "nbformat": 4,
 "nbformat_minor": 2
}
