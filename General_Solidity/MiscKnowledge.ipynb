{
 "cells": [
  {
   "attachments": {},
   "cell_type": "markdown",
   "metadata": {},
   "source": [
    "# Ethers.js\n",
    "## Deploying contracts\n",
    "contracts deployed with ethers, eg:\n",
    "![example deployment](./exampleDeploy.png \"deployment\")  \n",
    "then have properties, for example interface, which will allow us to easily interact with the contract.  \n",
    "The interface then has methods such as [encodeFunctionData](https://docs.ethers.org/v5/api/utils/abi/interface/#Interface--encoding) which is used in line 43 of deploy.js of the diamond-1-hardhat repo.\n",
    "\n",
    "\n"
   ]
  }
 ],
 "metadata": {
  "kernelspec": {
   "display_name": "Python 3",
   "language": "python",
   "name": "python3"
  },
  "language_info": {
   "name": "python",
   "version": "3.8.10 (default, Mar 15 2022, 12:22:08) \n[GCC 9.4.0]"
  },
  "orig_nbformat": 4,
  "vscode": {
   "interpreter": {
    "hash": "916dbcbb3f70747c44a77c7bcd40155683ae19c65e1c03b4aa3499c5328201f1"
   }
  }
 },
 "nbformat": 4,
 "nbformat_minor": 2
}
