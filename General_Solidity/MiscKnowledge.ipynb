{
 "cells": [
  {
   "attachments": {},
   "cell_type": "markdown",
   "metadata": {},
   "source": [
    "# Ethers.js\n",
    "## Deploying contracts\n",
    "contracts deployed with ethers, eg:\n",
    "![example deployment](./exampleDeploy.png \"deployment\")  \n",
    "then have properties, for example interface, which will allow us to easily interact with the contract.  \n",
    "The interface then has methods such as [encodeFunctionData](https://docs.ethers.org/v5/api/utils/abi/interface/#Interface--encoding) which is used in line 43 of deploy.js of the diamond-1-hardhat repo.\n",
    "\n",
    "# Data Locations\n",
    "## Storage\n",
    "* Written to the blockchain (therefore persistent)\n",
    "* Gas fee incurred as changes state of blockchain\n",
    "## Memory\n",
    "* Not written to blockchain\n",
    "* for variables defined inside a function \n",
    "* Lifetime limited to a fucntion call (destroyed once function completed)\n",
    "* Not accessible from anywhere outside the given function\n",
    "## Calldata\n",
    "* Only available as parameters of external contract functions.\n",
    "* non-modifiable, non persistent area where function arguments are stored\n",
    "* behaves mostly like memory\n",
    "## Example\n",
    "function addUnderlyingToken(address underlyingToken, UnderlyingTokenConfig calldata config) external override lock {...}  \n",
    "2 arguments (provided by the external caller):\n",
    "* 'underlyingToken' of type 'address'\n",
    "* 'config' of type 'UnderlyingTokenConfig' (a custom type) which is stored in calldata.\n",
    "\n",
    "# Interfaces\n",
    "Inherit a contract's interface in its own definition.  \n",
    "For example:  \n",
    "'contract AlchemistV2 is IAlchemistV2'  \n",
    "This allows for:\n",
    "* easier use of the contract for other users (especially when full ocntract is not available for them to make thier own interface)\n",
    "* defining errors and events in an efficient and reusable way\n",
    "* Standardisation for future derivations, versions, or modifciations - as long as you comply to the interface, you can interact with new implementations in the same way\n",
    "* better for documentation and code organisation.    \n",
    "\n",
    "In the alchemix codebase some structs (e.g YieldTokenParams) are defined in the interfae only and then inherited into the contract, however the 'Account' struct is defined in the contract **Why is this?**. Furthermore, most notices (e.g'@dev') are given in the interface, so the interface contains detailed function descriptions.\n",
    "\n",
    "\n",
    "\n"
   ]
  }
 ],
 "metadata": {
  "kernelspec": {
   "display_name": "Python 3",
   "language": "python",
   "name": "python3"
  },
  "language_info": {
   "name": "python",
   "version": "3.8.10 (default, Mar 15 2022, 12:22:08) \n[GCC 9.4.0]"
  },
  "orig_nbformat": 4,
  "vscode": {
   "interpreter": {
    "hash": "916dbcbb3f70747c44a77c7bcd40155683ae19c65e1c03b4aa3499c5328201f1"
   }
  }
 },
 "nbformat": 4,
 "nbformat_minor": 2
}
