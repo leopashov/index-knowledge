{
 "cells": [
  {
   "cell_type": "code",
   "execution_count": 1,
   "metadata": {},
   "outputs": [
    {
     "name": "stdout",
     "output_type": "stream",
     "text": [
      "Hello\n"
     ]
    }
   ],
   "source": [
    "print(\"Hello\")"
   ]
  },
  {
   "attachments": {},
   "cell_type": "markdown",
   "metadata": {},
   "source": [
    "# Deployment\n",
    "This runs through the [Diamond 1 hardhat deployment](https://github.com/mudgen/diamond-1-hardhat). Deployment is handled by the [deploy.js file](https://github.com/mudgen/diamond-1-hardhat/blob/main/scripts/deploy.js). The steps are:  \n",
    "## Deploy DiamondInit\n",
    "Diamond init is found in diamond-1-hardhat/contracts/upgradeInitializers/DiamondInit.sol. It has one function named init() which creates a diamond storage instance 'ds' in storage. DiamondStorage is imported from the LibDiamond.sol file.\n",
    "### LibDiamond.sol\n",
    "Found at diamond-1-hardhat/contracts/libraries/LibDiamond.sol, LibDiamond.sol is a library. It contains the logic for diamond cut actions, including add, replace and remove functions.\n",
    "#### DiamondStorage\n",
    "A struct defined by:\n",
    "![DiamondStorage struct definition](./diamondStorage.png \"diamondStorage definition\")  \n",
    "It has a 'supported interfaces' mapping which is part of [EIP-165](https://eips.ethereum.org/EIPS/eip-165), an interface detection protocol. When interfaces are set to 'true' in the maping, it lets other contracts that might be using this contract know which interfaces are supported. Even if interfaces are not added to this mapping they will work, but other contracts may not know that. \n",
    "#### diamondStorage()\n",
    "A function defined as:\n",
    "![DiamondStorage function definition](./diamondStorageFunc.png \"diamondStorage function definition\")   \n",
    "Where DIAMOND_STORAGE_POSITION is just the keccak256 hash of \"diamond.standard.diamond.storage\".\n",
    "## Deploy facets and set 'facetCuts' variable\n",
    "\n",
    "\n",
    "\n"
   ]
  }
 ],
 "metadata": {
  "kernelspec": {
   "display_name": "Python 3",
   "language": "python",
   "name": "python3"
  },
  "language_info": {
   "codemirror_mode": {
    "name": "ipython",
    "version": 3
   },
   "file_extension": ".py",
   "mimetype": "text/x-python",
   "name": "python",
   "nbconvert_exporter": "python",
   "pygments_lexer": "ipython3",
   "version": "3.8.10"
  },
  "orig_nbformat": 4,
  "vscode": {
   "interpreter": {
    "hash": "916dbcbb3f70747c44a77c7bcd40155683ae19c65e1c03b4aa3499c5328201f1"
   }
  }
 },
 "nbformat": 4,
 "nbformat_minor": 2
}
