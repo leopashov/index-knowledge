{
 "cells": [
  {
   "attachments": {},
   "cell_type": "markdown",
   "metadata": {},
   "source": [
    "# Alchemix Code Review\n",
    "## Intro\n",
    "This document will contain the main information on the unpicking of the alchemix code. Additional/ supporting documents can be put in the 'alchemixStudy' folder.\n",
    "This will serve as a central reference of our understanding of the alchemix smart contracts.\n",
    "## Key questions\n",
    "While understanding the code, we should pay special attention to the following, as they will be useful in our project:\n",
    "* How are Yearn yields tracked? - this will be key for us as we must monitor yields coming in from yearn, to be able to show users their renumeration for performing rebalancing actions.\n",
    "* Security - which security features have been implemented? Which seem different to standard (perhaps whitelisting)? Would these be useful for us?\n",
    "* Which contracts can we leverage? - contracts such as wEth gateway and yearn token adaptor should be useful to us and we can implement them directly in a diamond pattern. Are there any others?\n",
    "### Yearn Yields\n",
    "function _preemptivelyHarvest(line 1002 AlchemistV2.sol)  \n",
    "![preemptively harvest definition](./IMG/_preemptiveHarvest.png \"preemptively harvest\")  \n",
    "Worth checking how yearn yield works - do number of yvault tokens increase over time?\n",
    "\n",
    "### YieldTokenParams\n",
    "A struct defined in IAlchemistV2State.sol defining yield token parameters.\n",
    "It is inherited by IAlchemistV2 which is inherited by AlchemistV2.sol.\n",
    "It kind of acts as a bit of a glossary of terms:  \n",
    "![yield token parameters](./IMG/yieldTokenParams.png \"yield token parameters\") \n",
    "\n",
    "\n",
    "## Resources/ References\n",
    "[Alchemix contracts outline](https://alchemix-finance.gitbook.io/v2/)  \n",
    "[Alchemix V2 Contracts Github](https://github.com/alchemix-finance/v2-contracts)  \n",
    "[Alchemix user docs](https://alchemix-finance.gitbook.io/user-docs/)  \n",
    "[OpenAI prompt design docs](https://beta.openai.com/docs/guides/completion/prompt-design)  \n"
   ]
  }
 ],
 "metadata": {
  "kernelspec": {
   "display_name": "Python 3",
   "language": "python",
   "name": "python3"
  },
  "language_info": {
   "name": "python",
   "version": "3.8.10 (default, Mar 15 2022, 12:22:08) \n[GCC 9.4.0]"
  },
  "orig_nbformat": 4,
  "vscode": {
   "interpreter": {
    "hash": "916dbcbb3f70747c44a77c7bcd40155683ae19c65e1c03b4aa3499c5328201f1"
   }
  }
 },
 "nbformat": 4,
 "nbformat_minor": 2
}
