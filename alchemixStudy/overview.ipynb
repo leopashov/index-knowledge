{
 "cells": [
  {
   "attachments": {},
   "cell_type": "markdown",
   "metadata": {},
   "source": [
    "# Alchemix Code Review\n",
    "## Intro\n",
    "This document will contain the main information on the unpicking of the alchemix code. Additional/ supporting documents can be put in the 'alchemixStudy' folder.\n",
    "This will serve as a central reference of our understanding of the alchemix smart contracts.\n",
    "## Key questions\n",
    "While understanding the code, we should pay special attention to the following, as they will be useful in our project:\n",
    "* How are deposits and withdrawals handled?\n",
    "* How are Yearn yields tracked? - this will be key for us as we must monitor yields coming in from yearn, to be able to show users their renumeration for performing rebalancing actions.\n",
    "* Security - which security features have been implemented? Which seem different to standard (perhaps whitelisting)? Would these be useful for us?\n",
    "* Which contracts can we leverage? - contracts such as wEth gateway and yearn token adaptor should be useful to us and we can implement them directly in a diamond pattern. Are there any others?\n",
    "### Yearn Yields\n",
    "function _preemptivelyHarvest(line 1002 AlchemistV2.sol)  \n",
    "![preemptively harvest definition](./IMG/_preemptiveHarvest.png \"preemptively harvest\")  \n",
    "Worth checking how yearn yield works - do number of yvault tokens increase over time?\n",
    "\n",
    "### YieldTokenParams\n",
    "A struct defined in IAlchemistV2State.sol defining yield token parameters.\n",
    "It is inherited by IAlchemistV2 which is inherited by AlchemistV2.sol.\n",
    "It kind of acts as a bit of a glossary of terms:  \n",
    "![yield token parameters](./IMG/yieldTokenParams.png \"yield token parameters\")\n",
    "\n",
    "## Deposit function flow\n",
    "There are two options for depositing to alchemix:\n",
    "* depositUnderlying -'Deposit an underlying token into the account of `recipient` as `yieldToken`'.\n",
    "* deposit - 'Deposit a yield token into a user's account.'\n",
    "These functions are broken down in the next few sections.\n",
    "### depositUnderlying\n",
    "deposit underlying is a function on both the WETHGateway contract and AlchemistV2 contract. \n",
    "#### WETHGateway implementation \n",
    "When a user uses the website to deposit, a transaction calling 'depositUnderlying' on the WETHGateway contract is created. This has a modifier _onlyWhitelisted which is described below.  \n",
    "WETHGateway then call deposit on the WETH instance which is initialised in the constructor.  \n",
    "Finally, depositUnderlying is called on the AlchemistV2 contract. \n",
    "##### _onlyWhitelisted()\n",
    "OnlyWhitelisted is a function modifier which appears throughout the contracts.  \n",
    "It first checks wether the message sender is an EOA (Externally Owned Account), controlled by public+private keys - basically a user wallet). If the caller is not an EOA, it must be a contract, and if it is not a whitelisted contract the transaction is reverted.\n",
    "#### AlchemistV2 implementation\n",
    "Checks:\n",
    "* _onlyWhitelisted - see above\n",
    "* _checkArgument(recipient != address(0)) - Checks the recipient is not the nulll address, reverting if it is\n",
    "* _checkSupportedYieldToken(yieldToken) - checks the yield token is in the _supportedYieldTokens mapping.  \n",
    "\n",
    "Calls:\n",
    "* function calls _wrap (see below)\n",
    "* function calls _deposit, depositing yield tokens to recipients account. The front end sets the recipient to the caller address.\n",
    "\n",
    "_deposit is quite a beefy function, will break it down below.\n",
    "\n",
    "##### _wrap\n",
    "* loads yield token paramteters from _yieldTokens mapping\n",
    "* creates an instance of the adapter using the ITokenAdapter interface\n",
    "* safe transfers underlying tokens to AlchemistV2 contract.\n",
    "* wraps tokens to 'wrapped shares' using adapter\n",
    "* ensures wrapped shares amount > min amount out\n",
    "\n",
    "## _deposit\n",
    "\n",
    "\n",
    "### Shares\n",
    "The alchemist contract keeps a record of deposits as shares instead of specific units of various tokens.  \n",
    "The number of shares for a depsoit is calculated using '_convertYieldTokensToShares'. It takes a yieldToken address and uint256 amount as arguments. This is called by the function '_issueSharesForAmount'. If there are originally no shares, the number of yield tokens is the number of shares.  \n",
    "Otherwise, shares is calculated as: return amount * _yieldTokens[yieldToken].totalShares / _calculateUnrealizedActiveBalance(yieldToken); (line 1611)\n",
    "\n",
    "\n",
    "## Resources/ References\n",
    "[Alchemix contracts outline](https://alchemix-finance.gitbook.io/v2/)  \n",
    "[Alchemix V2 Contracts Github](https://github.com/alchemix-finance/v2-contracts)  \n",
    "[Alchemix user docs](https://alchemix-finance.gitbook.io/user-docs/)  \n",
    "[OpenAI prompt design docs](https://beta.openai.com/docs/guides/completion/prompt-design)  \n"
   ]
  }
 ],
 "metadata": {
  "kernelspec": {
   "display_name": "Python 3",
   "language": "python",
   "name": "python3"
  },
  "language_info": {
   "name": "python",
   "version": "3.8.10 (default, Mar 15 2022, 12:22:08) \n[GCC 9.4.0]"
  },
  "orig_nbformat": 4,
  "vscode": {
   "interpreter": {
    "hash": "916dbcbb3f70747c44a77c7bcd40155683ae19c65e1c03b4aa3499c5328201f1"
   }
  }
 },
 "nbformat": 4,
 "nbformat_minor": 2
}
