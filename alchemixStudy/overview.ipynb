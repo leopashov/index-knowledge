{
 "cells": [
  {
   "attachments": {},
   "cell_type": "markdown",
   "metadata": {},
   "source": [
    "# Alchemix Code Review\n",
    "## Intro\n",
    "This document will contain the main information on the unpicking of the alchemix code. Additional/ supporting documents can be put in the 'alchemixStudy' folder.\n",
    "This will serve as a central reference of our understanding of the alchemix smart contracts.\n",
    "## Key questions\n",
    "While understanding the code, we should pay special attention to the following, as they will be useful in our project:\n",
    "* How are Yearn yields tracked? - this will be key for us as we must monitor yields coming in from yearn, to be able to show users their renumeration for performing rebalancing actions.\n",
    "* Security - which security features have been implemented? Which seem different to standard (perhaps whitelisting)? Would these be useful for us?\n",
    "* Which contracts can we leverage? - contracts such as wEth gateway and yearn token adaptor should be useful to us and we can implement them directly in a diamond pattern. Are there any others?"
   ]
  }
 ],
 "metadata": {
  "language_info": {
   "name": "python"
  },
  "orig_nbformat": 4
 },
 "nbformat": 4,
 "nbformat_minor": 2
}
